{
 "cells": [
  {
   "cell_type": "markdown",
   "metadata": {},
   "source": []
  },
  {
   "cell_type": "code",
   "execution_count": 11,
   "metadata": {},
   "outputs": [],
   "source": [
    "import pandas as pd\n",
    "from sklearn.model_selection import train_test_split\n",
    "from sklearn.linear_model import LogisticRegression\n",
    "from sklearn.preprocessing import LabelEncoder, StandardScaler\n",
    "from sklearn.impute import SimpleImputer\n",
    "from sklearn.metrics import accuracy_score, classification_report\n",
    "from sklearn.model_selection import learning_curve\n",
    "import matplotlib.pyplot as plt\n",
    "import numpy as np\n",
    "from sklearn.model_selection import train_test_split\n",
    "from sklearn.ensemble import RandomForestClassifier\n",
    "from sklearn.metrics import accuracy_score, classification_report,f1_score\n",
    "from sklearn.model_selection import GridSearchCV\n",
    "from sklearn.svm import SVC\n",
    "from sklearn.tree import DecisionTreeClassifier\n",
    "from sklearn.metrics import accuracy_score, classification_report\n",
    "from sklearn import tree\n",
    "import xgboost as xgb\n",
    "from sklearn.model_selection import GridSearchCV, RandomizedSearchCV\n",
    "from sklearn.neighbors import KNeighborsClassifier\n",
    "import lightgbm as lgb\n",
    "from sklearn.naive_bayes import GaussianNB\n",
    "from sklearn.preprocessing import LabelEncoder, StandardScaler\n",
    "from sklearn.preprocessing import StandardScaler\n",
    "from keras.models import Sequential\n",
    "from keras.layers import Dense, Dropout, BatchNormalization\n",
    "from keras.optimizers import Adam\n",
    "from keras.callbacks import EarlyStopping\n",
    "from sklearn.decomposition import PCA\n",
    "from imblearn.over_sampling import SMOTE\n",
    "from sklearn.ensemble import GradientBoostingClassifier\n",
    "from sklearn.svm import SVC\n"
   ]
  },
  {
   "cell_type": "markdown",
   "metadata": {},
   "source": [
    "Reading and over sampling the data"
   ]
  },
  {
   "cell_type": "code",
   "execution_count": 12,
   "metadata": {},
   "outputs": [
    {
     "name": "stderr",
     "output_type": "stream",
     "text": [
      "C:\\Users\\Legend\\AppData\\Roaming\\Python\\Python39\\site-packages\\IPython\\core\\interactiveshell.py:3548: DtypeWarning: Columns (662,664,676,677,683,685,686,687) have mixed types.Specify dtype option on import or set low_memory=False.\n",
      "  exec(code_obj, self.user_global_ns, self.user_ns)\n"
     ]
    }
   ],
   "source": [
    "file_path = 'data.csv'\n",
    "data = pd.read_csv(file_path)\n",
    "\n",
    "# Assume 'target_column_name' is your categorical target; replace it with your actual column name\n",
    "target_column_name = 'cancer_type'  # Replace 'cancer_type' with your actual target column\n",
    "\n",
    "# Encode categorical variables, including the target if it's not numerically categorical\n",
    "categorical_cols = data.select_dtypes(include=['object']).columns.tolist()\n",
    "label_encoders = {}\n",
    "for col in categorical_cols:\n",
    "    le = LabelEncoder()\n",
    "    data[col] = le.fit_transform(data[col].astype(str))\n",
    "    label_encoders[col] = le\n",
    "\n",
    "# Impute missing values for all columns\n",
    "imputer = SimpleImputer(strategy='most_frequent')\n",
    "data = pd.DataFrame(imputer.fit_transform(data), columns=data.columns)\n",
    "\n",
    "# Normalize only the feature data, exclude target\n",
    "feature_columns = [col for col in data.columns if col != target_column_name]\n",
    "scaler = StandardScaler()\n",
    "data[feature_columns] = scaler.fit_transform(data[feature_columns])\n",
    "\n",
    "# Split the data\n",
    "X = data[feature_columns]\n",
    "y = data[target_column_name].astype(int)  # Ensure the target is treated as an integer\n",
    "\n",
    "X_train, X_test, y_train, y_test = train_test_split(X, y, test_size=0.2, random_state=42)\n",
    "from imblearn.over_sampling import SMOTE\n",
    "smote = SMOTE(random_state=42)\n",
    "X_train, y_train = smote.fit_resample(X_train, y_train)\n",
    "\n"
   ]
  },
  {
   "cell_type": "code",
   "execution_count": 13,
   "metadata": {},
   "outputs": [],
   "source": [
    "#spliting data 10% val 10% test select_dtypes\n",
    "X_test,X_val,y_test,y_val= train_test_split(X_test, y_test, test_size=0.5, random_state=42)\n"
   ]
  },
  {
   "cell_type": "markdown",
   "metadata": {},
   "source": [
    "XGBoost with over sampling"
   ]
  },
  {
   "cell_type": "code",
   "execution_count": 14,
   "metadata": {},
   "outputs": [
    {
     "name": "stdout",
     "output_type": "stream",
     "text": [
      "Accuracy of validation set: 0.7933333333333333\n",
      "f1_score weighted of validation set:  0.7292982456140351\n",
      "Classification Report of validation data:\n",
      "               precision    recall  f1-score   support\n",
      "\n",
      "           0       0.80      0.98      0.88       117\n",
      "           1       0.80      0.29      0.42        14\n",
      "           2       0.00      0.00      0.00         5\n",
      "           3       0.00      0.00      0.00        14\n",
      "\n",
      "    accuracy                           0.79       150\n",
      "   macro avg       0.40      0.32      0.33       150\n",
      "weighted avg       0.70      0.79      0.73       150\n",
      "\n",
      "Accuracy of test data: 0.8066666666666666\n",
      "f1_score_weighted of test data:  0.7447866098449756\n",
      "Classification Report of test data:\n",
      "               precision    recall  f1-score   support\n",
      "\n",
      "           0       0.82      0.99      0.89       116\n",
      "           1       0.62      0.42      0.50        12\n",
      "           2       0.00      0.00      0.00         2\n",
      "           3       1.00      0.05      0.10        20\n",
      "\n",
      "    accuracy                           0.81       150\n",
      "   macro avg       0.61      0.36      0.37       150\n",
      "weighted avg       0.81      0.81      0.74       150\n",
      "\n"
     ]
    },
    {
     "name": "stderr",
     "output_type": "stream",
     "text": [
      "C:\\Users\\Legend\\AppData\\Roaming\\Python\\Python39\\site-packages\\sklearn\\metrics\\_classification.py:1509: UndefinedMetricWarning: Precision is ill-defined and being set to 0.0 in labels with no predicted samples. Use `zero_division` parameter to control this behavior.\n",
      "  _warn_prf(average, modifier, f\"{metric.capitalize()} is\", len(result))\n",
      "C:\\Users\\Legend\\AppData\\Roaming\\Python\\Python39\\site-packages\\sklearn\\metrics\\_classification.py:1509: UndefinedMetricWarning: Precision is ill-defined and being set to 0.0 in labels with no predicted samples. Use `zero_division` parameter to control this behavior.\n",
      "  _warn_prf(average, modifier, f\"{metric.capitalize()} is\", len(result))\n",
      "C:\\Users\\Legend\\AppData\\Roaming\\Python\\Python39\\site-packages\\sklearn\\metrics\\_classification.py:1509: UndefinedMetricWarning: Precision is ill-defined and being set to 0.0 in labels with no predicted samples. Use `zero_division` parameter to control this behavior.\n",
      "  _warn_prf(average, modifier, f\"{metric.capitalize()} is\", len(result))\n"
     ]
    }
   ],
   "source": [
    "import xgboost as xgb\n",
    "\n",
    "xgBoost_model = xgb.XGBClassifier()\n",
    "xgBoost_model.fit(X_train, y_train)\n",
    "\n",
    "# Make predictions\n",
    "y_pred = xgBoost_model.predict(X_val)\n",
    "\n",
    "# Evaluate the model\n",
    "accuracy = accuracy_score(y_val, y_pred)\n",
    "f1 = f1_score(y_val, y_pred,average='weighted')\n",
    "\n",
    "report = classification_report(y_val, y_pred)\n",
    "\n",
    "print(\"Accuracy of validation set:\", accuracy)\n",
    "print(\"f1_score weighted of validation set: \", f1)\n",
    "print(\"Classification Report of validation data:\\n\", report)\n",
    "y_pred = xgBoost_model.predict(X_test)\n",
    "\n",
    "# Evaluate the model\n",
    "accuracy = accuracy_score(y_test, y_pred)\n",
    "f1 = f1_score(y_test, y_pred,average='weighted')\n",
    "\n",
    "report = classification_report(y_test, y_pred)\n",
    "\n",
    "print(\"Accuracy of test data:\", accuracy)\n",
    "print(\"f1_score_weighted of test data: \", f1)\n",
    "\n",
    "print(\"Classification Report of test data:\\n\", report)"
   ]
  },
  {
   "cell_type": "markdown",
   "metadata": {},
   "source": [
    "Plot learning Curve"
   ]
  },
  {
   "cell_type": "code",
   "execution_count": 5,
   "metadata": {},
   "outputs": [
    {
     "name": "stderr",
     "output_type": "stream",
     "text": [
      "C:\\Users\\Legend\\AppData\\Roaming\\Python\\Python39\\site-packages\\sklearn\\model_selection\\_validation.py:547: FitFailedWarning: \n",
      "5 fits failed out of a total of 30.\n",
      "The score on these train-test partitions for these parameters will be set to nan.\n",
      "If these failures are not expected, you can try to debug them by setting error_score='raise'.\n",
      "\n",
      "Below are more details about the failures:\n",
      "--------------------------------------------------------------------------------\n",
      "5 fits failed with the following error:\n",
      "Traceback (most recent call last):\n",
      "  File \"C:\\Users\\Legend\\AppData\\Roaming\\Python\\Python39\\site-packages\\sklearn\\model_selection\\_validation.py\", line 895, in _fit_and_score\n",
      "    estimator.fit(X_train, y_train, **fit_params)\n",
      "  File \"C:\\Users\\Legend\\AppData\\Roaming\\Python\\Python39\\site-packages\\xgboost\\core.py\", line 730, in inner_f\n",
      "    return func(**kwargs)\n",
      "  File \"C:\\Users\\Legend\\AppData\\Roaming\\Python\\Python39\\site-packages\\xgboost\\sklearn.py\", line 1519, in fit\n",
      "    self._Booster = train(\n",
      "  File \"C:\\Users\\Legend\\AppData\\Roaming\\Python\\Python39\\site-packages\\xgboost\\core.py\", line 730, in inner_f\n",
      "    return func(**kwargs)\n",
      "  File \"C:\\Users\\Legend\\AppData\\Roaming\\Python\\Python39\\site-packages\\xgboost\\training.py\", line 181, in train\n",
      "    bst.update(dtrain, i, obj)\n",
      "  File \"C:\\Users\\Legend\\AppData\\Roaming\\Python\\Python39\\site-packages\\xgboost\\core.py\", line 2050, in update\n",
      "    _check_call(\n",
      "  File \"C:\\Users\\Legend\\AppData\\Roaming\\Python\\Python39\\site-packages\\xgboost\\core.py\", line 282, in _check_call\n",
      "    raise XGBoostError(py_str(_LIB.XGBGetLastError()))\n",
      "xgboost.core.XGBoostError: value 0 for Parameter num_class should be greater equal to 1\n",
      "num_class: Number of output class in the multi-class classification.\n",
      "\n",
      "  warnings.warn(some_fits_failed_message, FitFailedWarning)\n"
     ]
    },
    {
     "data": {
      "image/png": "[encoded data removed]",
      "text/plain": [
       "<Figure size 1000x600 with 1 Axes>"
      ]
     },
     "metadata": {},
     "output_type": "display_data"
    }
   ],
   "source": [
    "def plot_learning_curves(model, x, y, title):\n",
    "    train_sizes, train_scores, val_scores = learning_curve(model, x, y, cv=3, scoring='accuracy', train_sizes=np.linspace(0.1, 1.0, 10))#, shuffle=True, random_state=42\n",
    "\n",
    "    train_scores_mean = np.mean(train_scores, axis=1)\n",
    "    train_scores_std = np.std(train_scores, axis=1)\n",
    "    val_scores_mean = np.mean(val_scores, axis=1)\n",
    "    val_scores_std = np.std(val_scores, axis=1)\n",
    "\n",
    "    plt.figure(figsize=(10, 6))\n",
    "    plt.title(title)\n",
    "    plt.xlabel(\"Training Size\")\n",
    "    plt.ylabel(\"accuracy\")\n",
    "    \n",
    "    plt.grid()\n",
    "\n",
    "    plt.fill_between(train_sizes, train_scores_mean - train_scores_std, train_scores_mean + train_scores_std, alpha=0.1, color=\"r\")\n",
    "    plt.fill_between(train_sizes, val_scores_mean - val_scores_std, val_scores_mean + val_scores_std, alpha=0.1, color=\"g\")\n",
    "\n",
    "    plt.plot(train_sizes, train_scores_mean, 'o-', color=\"r\", label=\"Training score\")\n",
    "    plt.plot(train_sizes, val_scores_mean, 'o-', color=\"g\", label=\"Cross-validation score\")\n",
    "\n",
    "    plt.legend(loc=\"best\")\n",
    "    plt.show()\n",
    "plot_learning_curves(xgBoost_model, X_train, y_train, \"learning Curve - Xgboost Model with oversampling \")"
   ]
  },
  {
   "cell_type": "markdown",
   "metadata": {},
   "source": [
    "# Read the test file"
   ]
  },
  {
   "cell_type": "markdown",
   "metadata": {},
   "source": [
    "Add the test name file below before run it "
   ]
  },
  {
   "cell_type": "code",
   "execution_count": null,
   "metadata": {},
   "outputs": [],
   "source": [
    "file_path = ''#put the file path and name\n",
    "data = pd.read_csv(file_path)\n",
    "\n",
    "# Assume 'target_column_name' is your categorical target; replace it with your actual column name\n",
    "target_column_name = 'cancer_type'  # Replace 'cancer_type' with your actual target column\n",
    "\n",
    "# Encode categorical variables, including the target if it's not numerically categorical\n",
    "categorical_cols = data.select_dtypes(include=['object']).columns.tolist()\n",
    "label_encoders = {}\n",
    "for col in categorical_cols:\n",
    "    le = LabelEncoder()\n",
    "    data[col] = le.fit_transform(data[col].astype(str))\n",
    "    label_encoders[col] = le\n",
    "\n",
    "# Impute missing values for all columns\n",
    "imputer = SimpleImputer(strategy='most_frequent')\n",
    "data = pd.DataFrame(imputer.fit_transform(data), columns=data.columns)\n",
    "\n",
    "# Normalize only the feature data, exclude target\n",
    "feature_columns = [col for col in data.columns if col != target_column_name]\n",
    "scaler = StandardScaler()\n",
    "data[feature_columns] = scaler.fit_transform(data[feature_columns])\n",
    "\n",
    "# Split the data\n",
    "X = data[feature_columns]\n",
    "y = data[target_column_name].astype(int) \n",
    "\n",
    "X_test_new=X\n",
    "y_test_new= y"
   ]
  },
  {
   "cell_type": "markdown",
   "metadata": {},
   "source": [
    "Since already model is trained in the above data we just need to predict the output of the new test data"
   ]
  },
  {
   "cell_type": "code",
   "execution_count": null,
   "metadata": {},
   "outputs": [],
   "source": [
    "y_pred_1 = xgBoost_model.predict(X_test_new)\n",
    "\n",
    "# Evaluate the model\n",
    "accuracy = accuracy_score(y_test_new, y_pred_1)\n",
    "f1 = f1_score(y_test_new, y_pred_1,average='weighted')\n",
    "\n",
    "\n",
    "print(\"Accuracy of new test data:\", accuracy)\n",
    "print(\"f1_score_weighted of new test data: \", f1)\n",
    "\n"
   ]
  }
 ],
 "metadata": {
  "kernelspec": {
   "display_name": "Python 3",
   "language": "python",
   "name": "python3"
  },
  "language_info": {
   "codemirror_mode": {
    "name": "ipython",
    "version": 3
   },
   "file_extension": ".py",
   "mimetype": "text/x-python",
   "name": "python",
   "nbconvert_exporter": "python",
   "pygments_lexer": "ipython3",
   "version": "3.9.6"
  }
 },
 "nbformat": 4,
 "nbformat_minor": 2
}
